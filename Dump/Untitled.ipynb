{
 "cells": [
  {
   "cell_type": "code",
   "execution_count": 3,
   "metadata": {},
   "outputs": [],
   "source": [
    "import pandas as pd"
   ]
  },
  {
   "cell_type": "code",
   "execution_count": 2,
   "metadata": {},
   "outputs": [
    {
     "name": "stdout",
     "output_type": "stream",
     "text": [
      "Collecting pandas\n",
      "  Downloading pandas-1.2.3-cp38-cp38-win_amd64.whl (9.3 MB)\n",
      "Collecting numpy>=1.16.5\n",
      "  Downloading numpy-1.20.1-cp38-cp38-win_amd64.whl (13.7 MB)\n",
      "Collecting pytz>=2017.3\n",
      "  Downloading pytz-2021.1-py2.py3-none-any.whl (510 kB)\n",
      "Requirement already satisfied: python-dateutil>=2.7.3 in c:\\users\\rahul\\appdata\\local\\programs\\python\\python38\\lib\\site-packages (from pandas) (2.8.1)\n",
      "Requirement already satisfied: six>=1.5 in c:\\users\\rahul\\appdata\\local\\programs\\python\\python38\\lib\\site-packages (from python-dateutil>=2.7.3->pandas) (1.15.0)\n",
      "Installing collected packages: numpy, pytz, pandas\n",
      "Successfully installed numpy-1.20.1 pandas-1.2.3 pytz-2021.1\n"
     ]
    },
    {
     "name": "stderr",
     "output_type": "stream",
     "text": [
      "WARNING: You are using pip version 20.1.1; however, version 21.0.1 is available.\n",
      "You should consider upgrading via the 'c:\\users\\rahul\\appdata\\local\\programs\\python\\python38\\python.exe -m pip install --upgrade pip' command.\n"
     ]
    }
   ],
   "source": [
    "!pip install pandas"
   ]
  },
  {
   "cell_type": "code",
   "execution_count": 4,
   "metadata": {},
   "outputs": [
    {
     "name": "stdout",
     "output_type": "stream",
     "text": [
      " Volume in drive D is Rahul\n",
      " Volume Serial Number is 667F-D4BE\n",
      "\n",
      " Directory of D:\\Work\\MLSA\\Introduction to Git and Professional Networking\n",
      "\n",
      "06-03-2021  13:51    <DIR>          .\n",
      "06-03-2021  13:51    <DIR>          ..\n",
      "06-03-2021  13:51    <DIR>          .ipynb_checkpoints\n",
      "06-03-2021  12:48         3,798,599 Introduction to VCS, Git and Github.pptx\n",
      "06-03-2021  12:43           136,146 Poster.jpeg\n",
      "06-03-2021  13:51                72 Untitled.ipynb\n",
      "06-03-2021  13:50            18,314 Weekend Workshop- 6th March(1-73).xlsx\n",
      "               4 File(s)      3,953,131 bytes\n",
      "               3 Dir(s)  134,482,141,184 bytes free\n"
     ]
    }
   ],
   "source": [
    "!dir"
   ]
  },
  {
   "cell_type": "code",
   "execution_count": 9,
   "metadata": {},
   "outputs": [
    {
     "data": {
      "text/html": [
       "<div>\n",
       "<style scoped>\n",
       "    .dataframe tbody tr th:only-of-type {\n",
       "        vertical-align: middle;\n",
       "    }\n",
       "\n",
       "    .dataframe tbody tr th {\n",
       "        vertical-align: top;\n",
       "    }\n",
       "\n",
       "    .dataframe thead th {\n",
       "        text-align: right;\n",
       "    }\n",
       "</style>\n",
       "<table border=\"1\" class=\"dataframe\">\n",
       "  <thead>\n",
       "    <tr style=\"text-align: right;\">\n",
       "      <th></th>\n",
       "      <th>ID</th>\n",
       "      <th>Start time</th>\n",
       "      <th>Completion time</th>\n",
       "      <th>Email</th>\n",
       "      <th>Name</th>\n",
       "      <th>Name2</th>\n",
       "      <th>Organization( College, Company Name etc)</th>\n",
       "      <th>Email Address</th>\n",
       "      <th>WhatsApp Number</th>\n",
       "    </tr>\n",
       "  </thead>\n",
       "  <tbody>\n",
       "    <tr>\n",
       "      <th>0</th>\n",
       "      <td>1</td>\n",
       "      <td>2021-02-17 20:30:35.999997</td>\n",
       "      <td>2021-02-17 20:31:09.000002</td>\n",
       "      <td>anonymous</td>\n",
       "      <td>NaN</td>\n",
       "      <td>Smruti swagateeka</td>\n",
       "      <td>College of engineering and technology,Bhubaneswar</td>\n",
       "      <td>smrutiswagateeka1@gmail.com</td>\n",
       "      <td>8847840943</td>\n",
       "    </tr>\n",
       "    <tr>\n",
       "      <th>1</th>\n",
       "      <td>2</td>\n",
       "      <td>2021-02-17 20:30:51.999998</td>\n",
       "      <td>2021-02-17 20:31:37.999998</td>\n",
       "      <td>anonymous</td>\n",
       "      <td>NaN</td>\n",
       "      <td>Suparna Behera</td>\n",
       "      <td>College of Engineering and technology, Ghatiki...</td>\n",
       "      <td>suparnabehera2000@gmail.com</td>\n",
       "      <td>7008551533</td>\n",
       "    </tr>\n",
       "    <tr>\n",
       "      <th>2</th>\n",
       "      <td>3</td>\n",
       "      <td>2021-02-17 20:31:13.999996</td>\n",
       "      <td>2021-02-17 20:31:41.000005</td>\n",
       "      <td>anonymous</td>\n",
       "      <td>NaN</td>\n",
       "      <td>SUMEET KUMAR BEHERA</td>\n",
       "      <td>College of engineering and technology</td>\n",
       "      <td>beherasumeet02@gmail.com</td>\n",
       "      <td>8260306285</td>\n",
       "    </tr>\n",
       "    <tr>\n",
       "      <th>3</th>\n",
       "      <td>4</td>\n",
       "      <td>2021-02-17 20:30:32.999999</td>\n",
       "      <td>2021-02-17 20:32:00.000004</td>\n",
       "      <td>anonymous</td>\n",
       "      <td>NaN</td>\n",
       "      <td>Lovleen Mohapatra</td>\n",
       "      <td>College of Engineering and Technology, Bhubane...</td>\n",
       "      <td>mohapatralovleen@gmail.com</td>\n",
       "      <td>8599000013</td>\n",
       "    </tr>\n",
       "    <tr>\n",
       "      <th>4</th>\n",
       "      <td>5</td>\n",
       "      <td>2021-02-17 20:31:39.000000</td>\n",
       "      <td>2021-02-17 20:32:10.000001</td>\n",
       "      <td>anonymous</td>\n",
       "      <td>NaN</td>\n",
       "      <td>Soubhagya Pratik</td>\n",
       "      <td>College of Engineering and Technology</td>\n",
       "      <td>pratikmercer@gmail.com</td>\n",
       "      <td>7735181835</td>\n",
       "    </tr>\n",
       "  </tbody>\n",
       "</table>\n",
       "</div>"
      ],
      "text/plain": [
       "   ID                 Start time            Completion time      Email  Name  \\\n",
       "0   1 2021-02-17 20:30:35.999997 2021-02-17 20:31:09.000002  anonymous   NaN   \n",
       "1   2 2021-02-17 20:30:51.999998 2021-02-17 20:31:37.999998  anonymous   NaN   \n",
       "2   3 2021-02-17 20:31:13.999996 2021-02-17 20:31:41.000005  anonymous   NaN   \n",
       "3   4 2021-02-17 20:30:32.999999 2021-02-17 20:32:00.000004  anonymous   NaN   \n",
       "4   5 2021-02-17 20:31:39.000000 2021-02-17 20:32:10.000001  anonymous   NaN   \n",
       "\n",
       "                 Name2           Organization( College, Company Name etc)  \\\n",
       "0    Smruti swagateeka  College of engineering and technology,Bhubaneswar   \n",
       "1       Suparna Behera  College of Engineering and technology, Ghatiki...   \n",
       "2  SUMEET KUMAR BEHERA              College of engineering and technology   \n",
       "3    Lovleen Mohapatra  College of Engineering and Technology, Bhubane...   \n",
       "4     Soubhagya Pratik              College of Engineering and Technology   \n",
       "\n",
       "                 Email Address WhatsApp Number  \n",
       "0  smrutiswagateeka1@gmail.com      8847840943  \n",
       "1  suparnabehera2000@gmail.com      7008551533  \n",
       "2     beherasumeet02@gmail.com      8260306285  \n",
       "3   mohapatralovleen@gmail.com      8599000013  \n",
       "4       pratikmercer@gmail.com      7735181835  "
      ]
     },
     "execution_count": 9,
     "metadata": {},
     "output_type": "execute_result"
    }
   ],
   "source": [
    "x = pd.read_excel('Weekend Workshop- 6th March(1-73).xlsx')\n",
    "x.head()"
   ]
  },
  {
   "cell_type": "code",
   "execution_count": 12,
   "metadata": {},
   "outputs": [
    {
     "name": "stdout",
     "output_type": "stream",
     "text": [
      "smrutiswagateeka1@gmail.com,\n",
      "suparnabehera2000@gmail.com,\n",
      "beherasumeet02@gmail.com,\n",
      "mohapatralovleen@gmail.com,\n",
      "pratikmercer@gmail.com,\n",
      "tithitanujapatnaik@gmail.com,\n",
      "santosh.kr.mahapatra@gmail.com,\n",
      "mangarajswapnasagar@gmail.com,\n",
      "b.s.sahu2018@gmail.com,\n",
      "swastipradapatra18@gmail.com,\n",
      "sakshiarora.pec@gmail.com,\n",
      "abhilipsamail@gmail.com,\n",
      "subhransusp8@gmail.com,\n",
      "routfiza020@gmail.com,\n",
      "ankita.ojha97@gmail.com,\n",
      "milankumargiri1999@gmail.com,\n",
      "smrutirekhapradhan555@gmail.com ,\n",
      "kuswadesh@gmail.com,\n",
      "srivatsasaikrishna@gmail.com,\n",
      "sdas00126@gmail.com,\n",
      "monalin.panda@gmail.com,\n",
      "patrasubrat321@gmail.com,\n",
      "anindittp@gmail.com,\n",
      "ankitajena12347@gmail.com,\n",
      "rout.susmita14@gmail.com,\n",
      "saritasahu26031999@gmail.com,\n",
      "rashmiranjanbehera604@gmail.com,\n",
      "shubhashreep4@gmail.com,\n",
      "dashsourav1999@gmail.com,\n",
      "monalin.panda@gmail.com,\n",
      "smrutiswagateeka1@gmail.com,\n",
      "sdas00126@gmail.com,\n",
      "beherasumeet02@gmail.com,\n",
      "manoj.garnayak48@gmail.com ,\n",
      "ankita.ojha97@gmail.com,\n",
      "jasonabba1234@gmail.com,\n",
      "momoa8775@gmail.com,\n",
      "apradhan19992014@gmail.com,\n",
      "deepakkumarbehera2002@gmail.com,\n",
      "abhinashnaikk@gmail.com,\n",
      "smrutirekhapradhan555@gmail.com ,\n",
      "ng59083@gmail.com,\n",
      "Samantaraypragyan100@gmail.com,\n",
      "priyadeep.banerjee12@gmail.com,\n",
      "mailmeinmymail0@gmail.com,\n",
      "aishwaryakatti13@gmail.com ,\n",
      "suparnabehera2000@gmail.com,\n",
      "swastipradapatra18@gmail.com,\n",
      "ritusmitadhal01@gmail.com,\n",
      "krish.smdn@gmail.com,\n",
      "luckybehera81750@gmail.com,\n",
      "Satapathyprayasu@gmail.com,\n",
      "varshneyhardik98@gmail.com,\n",
      "revashaan@gmail.com,\n",
      "nikhil.mac.11@gmail.com,\n",
      "fenikatharotiya19@gmail.com,\n",
      "saket_verma@hotmail.com,\n",
      "mishrapriyanka073@gmail.com,\n",
      "Rushikeshpokharkar2001@gmail.com,\n",
      "mohapatralovleen@gmail.com,\n",
      "Chennupativinaykumar@gmail.com,\n",
      "mnachiket123@gmail.com ,\n",
      "krishitaab.13@gmail.com,\n",
      "ma3029@srmist.edu.in,\n",
      "kkseth412@gmail.com ,\n",
      "shibasishpintu@gmail.com,\n",
      "tithitanujapatnaik@gmail.com,\n",
      "sushilkumarswain7@gmail.com,\n",
      "rathsibananda@gmail.com,\n",
      "d.mahesh995@gmail.com,\n",
      "milankumargiri1999@gmail.com,\n",
      "kkseth412@gmail.com ,\n",
      "hg7779@srmist.edu.in,\n"
     ]
    }
   ],
   "source": [
    "for i in [str(i) for i in x['Email Address']]:\n",
    "    print(i+\",\")"
   ]
  },
  {
   "cell_type": "code",
   "execution_count": 8,
   "metadata": {},
   "outputs": [
    {
     "name": "stdout",
     "output_type": "stream",
     "text": [
      "Collecting openpyxl\n",
      "  Downloading openpyxl-3.0.6-py2.py3-none-any.whl (242 kB)\n",
      "Processing c:\\users\\rahul\\appdata\\local\\pip\\cache\\wheels\\6e\\df\\38\\abda47b884e3e25f9f9b6430e5ce44c47670758a50c0c51759\\et_xmlfile-1.0.1-py3-none-any.whl\n",
      "Collecting jdcal\n",
      "  Using cached jdcal-1.4.1-py2.py3-none-any.whl (9.5 kB)\n",
      "Installing collected packages: et-xmlfile, jdcal, openpyxl\n",
      "Successfully installed et-xmlfile-1.0.1 jdcal-1.4.1 openpyxl-3.0.6\n"
     ]
    },
    {
     "name": "stderr",
     "output_type": "stream",
     "text": [
      "WARNING: You are using pip version 20.1.1; however, version 21.0.1 is available.\n",
      "You should consider upgrading via the 'c:\\users\\rahul\\appdata\\local\\programs\\python\\python38\\python.exe -m pip install --upgrade pip' command.\n"
     ]
    }
   ],
   "source": [
    "!pip install openpyxl"
   ]
  },
  {
   "cell_type": "code",
   "execution_count": null,
   "metadata": {},
   "outputs": [],
   "source": []
  }
 ],
 "metadata": {
  "kernelspec": {
   "display_name": "Python 3",
   "language": "python",
   "name": "python3"
  },
  "language_info": {
   "codemirror_mode": {
    "name": "ipython",
    "version": 3
   },
   "file_extension": ".py",
   "mimetype": "text/x-python",
   "name": "python",
   "nbconvert_exporter": "python",
   "pygments_lexer": "ipython3",
   "version": "3.8.4"
  }
 },
 "nbformat": 4,
 "nbformat_minor": 4
}
